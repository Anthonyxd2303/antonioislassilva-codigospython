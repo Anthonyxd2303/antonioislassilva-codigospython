{
 "cells": [
  {
   "cell_type": "code",
   "execution_count": null,
   "id": "d13b8afc-5565-41ad-a162-ee03b533adf4",
   "metadata": {},
   "outputs": [],
   "source": [
    "numero=int(input(\"Ingresa un numero:\"))"
   ]
  },
  {
   "cell_type": "code",
   "execution_count": null,
   "id": "4f8637c1-2d8a-4bd8-beda-39328b7d4343",
   "metadata": {},
   "outputs": [],
   "source": [
    "if (numero<0):\n",
    "    print(\"el numero ingresado es negativo\")\n",
    "elif numero>0:\n",
    "    print(\"el numero es positivo\")\n",
    "else:\n",
    "    print(\"El numero es cero\")"
   ]
  },
  {
   "cell_type": "code",
   "execution_count": null,
   "id": "16dcdb82-eb94-4558-8b1c-9dbf1a649913",
   "metadata": {},
   "outputs": [],
   "source": []
  }
 ],
 "metadata": {
  "kernelspec": {
   "display_name": "Python 3",
   "language": "python",
   "name": "python3"
  },
  "language_info": {
   "codemirror_mode": {
    "name": "ipython",
    "version": 3
   },
   "file_extension": ".py",
   "mimetype": "text/x-python",
   "name": "python",
   "nbconvert_exporter": "python",
   "pygments_lexer": "ipython3",
   "version": "3.8.8"
  }
 },
 "nbformat": 4,
 "nbformat_minor": 5
}

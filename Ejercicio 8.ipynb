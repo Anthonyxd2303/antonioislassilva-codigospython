{
 "cells": [
  {
   "cell_type": "code",
   "execution_count": null,
   "id": "5e279644-c3bc-472f-9a37-ba901c63eb94",
   "metadata": {},
   "outputs": [],
   "source": [
    "star =5\n",
    "for i in range (star):\n",
    "    print (\" *\"*(i+1))\n",
    "    \n",
    "for j in range (star):\n",
    "    print (\" *\"*(star-j-1))"
   ]
  },
  {
   "cell_type": "code",
   "execution_count": null,
   "id": "e3f150eb-97d7-46f9-a972-94a34822f9ff",
   "metadata": {},
   "outputs": [],
   "source": []
  }
 ],
 "metadata": {
  "kernelspec": {
   "display_name": "Python 3",
   "language": "python",
   "name": "python3"
  },
  "language_info": {
   "codemirror_mode": {
    "name": "ipython",
    "version": 3
   },
   "file_extension": ".py",
   "mimetype": "text/x-python",
   "name": "python",
   "nbconvert_exporter": "python",
   "pygments_lexer": "ipython3",
   "version": "3.8.8"
  }
 },
 "nbformat": 4,
 "nbformat_minor": 5
}

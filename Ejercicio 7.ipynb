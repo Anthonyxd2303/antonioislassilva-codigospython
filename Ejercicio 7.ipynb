{
 "cells": [
  {
   "cell_type": "code",
   "execution_count": null,
   "id": "ee08a8a7-e36f-4375-858e-cc7bdc0e4c69",
   "metadata": {},
   "outputs": [],
   "source": [
    "def _cuentas(prestamo,meses):\n",
    "    cuota=prestamo/meses\n",
    "    return cuota"
   ]
  },
  {
   "cell_type": "code",
   "execution_count": null,
   "id": "3d22a362-fad6-4335-b9ec-eff68896d3ac",
   "metadata": {},
   "outputs": [],
   "source": [
    "def _Prestamo():\n",
    "    prestamo= input(\"Monto de tu prestamo? \")\n",
    "    meses= input(\"En cuantos meses deseas pagar? \")\n",
    "    print (\"Monto de pago por mes es: \",str(_cuentas(prestamo,meses)))"
   ]
  },
  {
   "cell_type": "code",
   "execution_count": null,
   "id": "5917bf53-11cb-4457-a1e1-879e749ad310",
   "metadata": {},
   "outputs": [],
   "source": [
    "edad= int (input (\"Dame tu edad: \"))\n",
    "if edad >= 18:\n",
    "    ingresos=int(input(\"Ingresa tus ingresos: \"))\n",
    "    egresos=int(input(\"Ingresa tus egresos: \"))\n",
    "    if ingresos >= egresos:\n",
    "        _Prestamo()\n",
    "    else:\n",
    "        print(\"Sus ingresos deben ser mayores.\")\n",
    "\n",
    "else:\n",
    "    print (\"No eres mayor de edad.\")"
   ]
  }
 ],
 "metadata": {
  "kernelspec": {
   "display_name": "Python 3",
   "language": "python",
   "name": "python3"
  },
  "language_info": {
   "codemirror_mode": {
    "name": "ipython",
    "version": 3
   },
   "file_extension": ".py",
   "mimetype": "text/x-python",
   "name": "python",
   "nbconvert_exporter": "python",
   "pygments_lexer": "ipython3",
   "version": "3.8.8"
  }
 },
 "nbformat": 4,
 "nbformat_minor": 5
}

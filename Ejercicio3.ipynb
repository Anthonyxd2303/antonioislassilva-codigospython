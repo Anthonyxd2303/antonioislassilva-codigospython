{
 "cells": [
  {
   "cell_type": "code",
   "execution_count": null,
   "id": "6bf19a52-8e8d-4222-8482-600891f2e85b",
   "metadata": {},
   "outputs": [],
   "source": [
    "res1=float(input(\"Valor de la resistencia 1:\"))## 2 Resistencias total en pararlelo"
   ]
  },
  {
   "cell_type": "code",
   "execution_count": null,
   "id": "8ddaec80-d2fe-43b3-b57c-68a650123ef3",
   "metadata": {},
   "outputs": [],
   "source": [
    "res2=float(input(\"Valor de la resistencia 2:\"))"
   ]
  },
  {
   "cell_type": "code",
   "execution_count": null,
   "id": "7c709196-dcba-4ab1-9d44-7355d6a39de4",
   "metadata": {},
   "outputs": [],
   "source": [
    "rest=1/(1/fres1+1/fres2)"
   ]
  },
  {
   "cell_type": "code",
   "execution_count": null,
   "id": "e49d7e7f-39d7-4a29-91f3-9aae0037b243",
   "metadata": {},
   "outputs": [],
   "source": [
    "print(\"La resistencia total es: \"+str(rest))"
   ]
  },
  {
   "cell_type": "code",
   "execution_count": null,
   "id": "5e89a73f-7aff-4327-add8-a155ca05f4de",
   "metadata": {},
   "outputs": [],
   "source": []
  }
 ],
 "metadata": {
  "kernelspec": {
   "display_name": "Python 3",
   "language": "python",
   "name": "python3"
  },
  "language_info": {
   "codemirror_mode": {
    "name": "ipython",
    "version": 3
   },
   "file_extension": ".py",
   "mimetype": "text/x-python",
   "name": "python",
   "nbconvert_exporter": "python",
   "pygments_lexer": "ipython3",
   "version": "3.8.8"
  }
 },
 "nbformat": 4,
 "nbformat_minor": 5
}

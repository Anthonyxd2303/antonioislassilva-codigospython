{
 "cells": [
  {
   "cell_type": "code",
   "execution_count": 3,
   "id": "858f34be-b65a-4e5e-ad47-eba385733b20",
   "metadata": {},
   "outputs": [
    {
     "name": "stdout",
     "output_type": "stream",
     "text": [
      "  // \\  \n",
      " // _ \\ \n",
      " ||   ||\n",
      " || _ ||\n"
     ]
    }
   ],
   "source": [
    "print (\"  // \\  \") \n",
    "print (\" // _ \\ \")\n",
    "print (\" ||   ||\")\n",
    "print (\" || _ ||\")"
   ]
  },
  {
   "cell_type": "code",
   "execution_count": null,
   "id": "0e14ea9d-6ba1-409d-b4c8-1214ccba6991",
   "metadata": {},
   "outputs": [],
   "source": []
  }
 ],
 "metadata": {
  "kernelspec": {
   "display_name": "Python 3",
   "language": "python",
   "name": "python3"
  },
  "language_info": {
   "codemirror_mode": {
    "name": "ipython",
    "version": 3
   },
   "file_extension": ".py",
   "mimetype": "text/x-python",
   "name": "python",
   "nbconvert_exporter": "python",
   "pygments_lexer": "ipython3",
   "version": "3.8.8"
  }
 },
 "nbformat": 4,
 "nbformat_minor": 5
}

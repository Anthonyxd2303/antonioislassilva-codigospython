{
 "cells": [
  {
   "cell_type": "code",
   "execution_count": null,
   "id": "c001c73d-e2b6-46f8-80f0-3646dfb7055c",
   "metadata": {},
   "outputs": [],
   "source": [
    "nom=(input(\"Introduce tu nombre\"))"
   ]
  },
  {
   "cell_type": "code",
   "execution_count": null,
   "id": "d963f20d-6500-4857-ba18-6c215a569074",
   "metadata": {},
   "outputs": [],
   "source": [
    "tel=(input(\"introduce tu numero telefonico: \"))"
   ]
  },
  {
   "cell_type": "code",
   "execution_count": null,
   "id": "e669e02a-a303-40df-9504-38b12fafba4c",
   "metadata": {},
   "outputs": [],
   "source": [
    "email=(input(\"Introduce tu correo electronico: \"))"
   ]
  },
  {
   "cell_type": "code",
   "execution_count": null,
   "id": "5d66dc58-716d-4ab5-a8a8-6445f0790507",
   "metadata": {},
   "outputs": [],
   "source": [
    "print(\"Bienvenid@ \"+nom+\"\\n\"+\"tu numero tel. es: \"+tel+\"\\n\"+\"y tu correo electronico es: \"+email)"
   ]
  },
  {
   "cell_type": "code",
   "execution_count": null,
   "id": "6a1df547-54fa-40a2-bb57-f35c126d3a1a",
   "metadata": {},
   "outputs": [],
   "source": []
  }
 ],
 "metadata": {
  "kernelspec": {
   "display_name": "Python 3",
   "language": "python",
   "name": "python3"
  },
  "language_info": {
   "codemirror_mode": {
    "name": "ipython",
    "version": 3
   },
   "file_extension": ".py",
   "mimetype": "text/x-python",
   "name": "python",
   "nbconvert_exporter": "python",
   "pygments_lexer": "ipython3",
   "version": "3.8.8"
  }
 },
 "nbformat": 4,
 "nbformat_minor": 5
}

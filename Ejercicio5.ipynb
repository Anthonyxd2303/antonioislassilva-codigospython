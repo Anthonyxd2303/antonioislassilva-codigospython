{
 "cells": [
  {
   "cell_type": "code",
   "execution_count": null,
   "id": "8583394a-cf6d-4607-a7fa-a61f6a04a7e2",
   "metadata": {},
   "outputs": [],
   "source": [
    "from math import sqrt"
   ]
  },
  {
   "cell_type": "code",
   "execution_count": null,
   "id": "2c1a53a4-ee57-494f-99ee-7e92e87bcde8",
   "metadata": {},
   "outputs": [],
   "source": [
    "a=int(input(\"introduce el valor de 'a'\"))"
   ]
  },
  {
   "cell_type": "code",
   "execution_count": null,
   "id": "f0d65a20-b92f-4c93-876d-99694ecc09ce",
   "metadata": {},
   "outputs": [],
   "source": [
    "b=int(input(\"introduce el valor de 'b'\"))"
   ]
  },
  {
   "cell_type": "code",
   "execution_count": null,
   "id": "93ca206d-e081-41df-abc1-b385e4db5ff4",
   "metadata": {},
   "outputs": [],
   "source": [
    "c=int(input(\"introduce el valor de 'c'\"))"
   ]
  },
  {
   "cell_type": "code",
   "execution_count": null,
   "id": "171f2da2-9736-4739-ae21-372231c971ac",
   "metadata": {},
   "outputs": [],
   "source": [
    "x1=(-b+(((b**2)-(4*a*c))**0.5))/(2*a) "
   ]
  },
  {
   "cell_type": "code",
   "execution_count": null,
   "id": "636ebe1e-9d23-4c71-a606-f784817e7bf7",
   "metadata": {},
   "outputs": [],
   "source": [
    "x2=(-b-(((b**2)-(4*a*c))**0.5))/(2*a)"
   ]
  },
  {
   "cell_type": "code",
   "execution_count": null,
   "id": "64e50c1c-1d1d-4ad1-b101-2bb0034efce8",
   "metadata": {},
   "outputs": [],
   "source": [
    "print(\"El valor de x1 es:\" + str(x1))"
   ]
  },
  {
   "cell_type": "code",
   "execution_count": null,
   "id": "9466c9a6-10d7-4605-8c20-e2050b5354f3",
   "metadata": {},
   "outputs": [],
   "source": [
    "print(\"El valor de x2 es:\"+ str(x2))"
   ]
  },
  {
   "cell_type": "code",
   "execution_count": null,
   "id": "80e760c6-202f-4cc4-bf19-11146b7092c7",
   "metadata": {},
   "outputs": [],
   "source": []
  },
  {
   "cell_type": "code",
   "execution_count": null,
   "id": "b0b0e1fa-4b9c-40c2-9f94-19dc1fe314a2",
   "metadata": {},
   "outputs": [],
   "source": []
  },
  {
   "cell_type": "code",
   "execution_count": null,
   "id": "dc9391e4-bb20-4d83-8762-3342af814c3a",
   "metadata": {},
   "outputs": [],
   "source": []
  }
 ],
 "metadata": {
  "kernelspec": {
   "display_name": "Python 3",
   "language": "python",
   "name": "python3"
  },
  "language_info": {
   "codemirror_mode": {
    "name": "ipython",
    "version": 3
   },
   "file_extension": ".py",
   "mimetype": "text/x-python",
   "name": "python",
   "nbconvert_exporter": "python",
   "pygments_lexer": "ipython3",
   "version": "3.8.8"
  }
 },
 "nbformat": 4,
 "nbformat_minor": 5
}

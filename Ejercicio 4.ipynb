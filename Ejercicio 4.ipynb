{
 "cells": [
  {
   "cell_type": "markdown",
   "id": "930eedd7-4b6e-46b5-9c04-d66c36567d33",
   "metadata": {},
   "source": [
    "import numpy as np"
   ]
  },
  {
   "cell_type": "code",
   "execution_count": null,
   "id": "fa3d3bb1-f8f1-4709-b00f-8d92f7d727e3",
   "metadata": {},
   "outputs": [],
   "source": [
    "m=np.array([[1,2],[2,1]])"
   ]
  },
  {
   "cell_type": "code",
   "execution_count": null,
   "id": "f73de230-4af9-4627-8615-fe7c466502c3",
   "metadata": {},
   "outputs": [],
   "source": [
    "np.linalg.det(m+.1)"
   ]
  },
  {
   "cell_type": "code",
   "execution_count": null,
   "id": "08affa99-6af1-4245-b1f2-36f526ea4e88",
   "metadata": {},
   "outputs": [],
   "source": []
  }
 ],
 "metadata": {
  "kernelspec": {
   "display_name": "Python 3",
   "language": "python",
   "name": "python3"
  },
  "language_info": {
   "codemirror_mode": {
    "name": "ipython",
    "version": 3
   },
   "file_extension": ".py",
   "mimetype": "text/x-python",
   "name": "python",
   "nbconvert_exporter": "python",
   "pygments_lexer": "ipython3",
   "version": "3.8.8"
  }
 },
 "nbformat": 4,
 "nbformat_minor": 5
}

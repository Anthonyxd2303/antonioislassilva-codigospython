{
 "cells": [
  {
   "cell_type": "code",
   "execution_count": null,
   "id": "890da152-6b27-48eb-8de5-13e218247a7f",
   "metadata": {},
   "outputs": [],
   "source": [
    "palabra=[]"
   ]
  },
  {
   "cell_type": "code",
   "execution_count": null,
   "id": "f9bd2f4c-2055-4c15-a04c-c2c32a09079d",
   "metadata": {},
   "outputs": [],
   "source": [
    "palabra=input(\"Ingresa la palabra a invertir: \")"
   ]
  },
  {
   "cell_type": "code",
   "execution_count": null,
   "id": "782bef44-ad17-42fb-af25-4e5ba0c101b0",
   "metadata": {},
   "outputs": [],
   "source": [
    "arbalap=\"\""
   ]
  },
  {
   "cell_type": "code",
   "execution_count": null,
   "id": "89242768-7624-44a0-b97f-083ff71bf498",
   "metadata": {},
   "outputs": [],
   "source": [
    "for i in palabra:\n",
    "    arbalap=i+arbalap"
   ]
  },
  {
   "cell_type": "code",
   "execution_count": null,
   "id": "9aacac55-e0ed-4c56-a485-2cc45125942a",
   "metadata": {},
   "outputs": [],
   "source": [
    "print(arbalap)"
   ]
  },
  {
   "cell_type": "code",
   "execution_count": null,
   "id": "3557c9e6-f060-4a4f-b181-7768f0dee1a4",
   "metadata": {},
   "outputs": [],
   "source": []
  }
 ],
 "metadata": {
  "kernelspec": {
   "display_name": "Python 3",
   "language": "python",
   "name": "python3"
  },
  "language_info": {
   "codemirror_mode": {
    "name": "ipython",
    "version": 3
   },
   "file_extension": ".py",
   "mimetype": "text/x-python",
   "name": "python",
   "nbconvert_exporter": "python",
   "pygments_lexer": "ipython3",
   "version": "3.8.8"
  }
 },
 "nbformat": 4,
 "nbformat_minor": 5
}

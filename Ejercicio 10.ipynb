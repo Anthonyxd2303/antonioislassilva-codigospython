{
 "cells": [
  {
   "cell_type": "code",
   "execution_count": null,
   "id": "8dc77894-8011-4161-ba0c-11aa5ed36b91",
   "metadata": {},
   "outputs": [],
   "source": [
    "numeros=[0,1,2,3,4,5,6]"
   ]
  },
  {
   "cell_type": "code",
   "execution_count": null,
   "id": "63b02382-3712-4813-a75f-c426a79b18c2",
   "metadata": {},
   "outputs": [],
   "source": [
    "numeros"
   ]
  },
  {
   "cell_type": "code",
   "execution_count": null,
   "id": "986c3e64-87ef-464a-8407-9bd4583551dc",
   "metadata": {},
   "outputs": [],
   "source": [
    "n=0\n",
    "print(n)\n",
    "for n in range(7):\n",
    "    if n%3!=0:\n",
    "        print(n)"
   ]
  },
  {
   "cell_type": "code",
   "execution_count": null,
   "id": "f475e89c-5843-4eb1-bf44-1b89c58abf8b",
   "metadata": {},
   "outputs": [],
   "source": []
  }
 ],
 "metadata": {
  "kernelspec": {
   "display_name": "Python 3",
   "language": "python",
   "name": "python3"
  },
  "language_info": {
   "codemirror_mode": {
    "name": "ipython",
    "version": 3
   },
   "file_extension": ".py",
   "mimetype": "text/x-python",
   "name": "python",
   "nbconvert_exporter": "python",
   "pygments_lexer": "ipython3",
   "version": "3.8.8"
  }
 },
 "nbformat": 4,
 "nbformat_minor": 5
}
